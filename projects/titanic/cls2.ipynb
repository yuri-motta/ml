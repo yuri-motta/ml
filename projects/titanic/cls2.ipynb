{
 "cells": [
  {
   "cell_type": "markdown",
   "metadata": {},
   "source": [
    "# Decision Tr"
   ]
  },
  {
   "cell_type": "code",
   "execution_count": 127,
   "metadata": {},
   "outputs": [
    {
     "name": "stdout",
     "output_type": "stream",
     "text": [
      "Correlations coeficient between features and the output:\n",
      "\n",
      "Pclass: -0.3384810359610147\n",
      "Sex 0.5433513806577551\n",
      "Age 0.010539215871285656\n",
      "SipSp -0.03532249888573558\n",
      "Parch 0.08162940708348365\n",
      "Fare 0.2573065223849623\n",
      "Embarked -0.1741992460782486\n"
     ]
    }
   ],
   "source": [
    "import pandas as pd\n",
    "import numpy as np\n",
    "\n",
    "df = pd.read_csv('titanic_data.csv')\n",
    "\n",
    "df.drop(columns=['Ticket', 'Name', 'Cabin', 'PassengerId'])\n",
    "\n",
    "# Removing NaN values\n",
    "df = df.fillna(0)\n",
    "\n",
    "# Replaces: Male = 0 and Female = 1\n",
    "gender = {\"male\": 0, \"female\": 1}\n",
    "df = df.replace({\"Sex\":gender})\n",
    "\n",
    "# Replaces: Embarked C = 0, Q = 1, S = 2\n",
    "gate = {\"C\":0, \"Q\":1, \"S\":2}\n",
    "df = df.replace({\"Embarked\":gate})\n",
    "\n",
    "# Extracting the significant features of the dataframe\n",
    "X = np.array(df[['Pclass', 'Sex', 'Age', 'SibSp', 'Parch', 'Fare', 'Embarked']])\n",
    "y = np.array(df[['Survived']])\n",
    "y = np.squeeze(y)\n",
    "\n",
    "# Calculating the correlation of the features and the output\n",
    "Pclass_corr = np.corrcoef(X[:,0],y)\n",
    "Sex_corr = np.corrcoef(X[:,1],y)\n",
    "Age_corr = np.corrcoef(X[:,2],y)\n",
    "SibSp_corr = np.corrcoef(X[:,3],y)\n",
    "Parch_corr = np.corrcoef(X[:,4],y)\n",
    "Fare_corr = np.corrcoef(X[:,5],y)\n",
    "Embarked_corr = np.corrcoef(X[:,6],y)\n",
    "\n",
    "print(\"Correlations coeficient between features and the output:\\n\")\n",
    "print(\"Pclass: {}\".format(Pclass_corr[0,1]))\n",
    "print(\"Sex {}\".format(Sex_corr[0,1]))\n",
    "print(\"Age {}\".format(Age_corr[0,1]))\n",
    "print(\"SipSp {}\".format(SibSp_corr[0,1]))\n",
    "print(\"Parch {}\".format(Parch_corr[0,1]))\n",
    "print(\"Fare {}\".format(Fare_corr[0,1]))\n",
    "print(\"Embarked {}\".format(Embarked_corr[0,1]))"
   ]
  },
  {
   "cell_type": "code",
   "execution_count": 128,
   "metadata": {},
   "outputs": [],
   "source": [
    "# Eliminating all features of X but Sex, Age, Parch, and Fare.\n",
    "# X = X[:,[0,1,2,4,5]]"
   ]
  },
  {
   "cell_type": "code",
   "execution_count": 129,
   "metadata": {},
   "outputs": [],
   "source": [
    "from sklearn.model_selection import train_test_split\n",
    "\n",
    "X_train, X_test, y_train, y_test = train_test_split(X, y, random_state=20, test_size=0.2 )"
   ]
  },
  {
   "cell_type": "code",
   "execution_count": 130,
   "metadata": {},
   "outputs": [],
   "source": [
    "from sklearn.model_selection import ShuffleSplit\n",
    "cv_sets = ShuffleSplit(n_splits = 10, test_size = 0.2, random_state = 20)"
   ]
  },
  {
   "cell_type": "code",
   "execution_count": 131,
   "metadata": {},
   "outputs": [],
   "source": [
    "from sklearn.metrics import make_scorer\n",
    "from sklearn.metrics import accuracy_score\n",
    "\n",
    "scorer = make_scorer(accuracy_score)"
   ]
  },
  {
   "cell_type": "code",
   "execution_count": 132,
   "metadata": {},
   "outputs": [],
   "source": [
    "parameters = {'max_depth':list(range(1,8)),\n",
    "              'min_samples_split':[5, 10, 15, 20, 25, 30],\n",
    "              'min_samples_leaf':[3, 4, 5, 6, 7, 8, 9, 10]}"
   ]
  },
  {
   "cell_type": "code",
   "execution_count": 133,
   "metadata": {},
   "outputs": [],
   "source": [
    "from sklearn.tree import DecisionTreeClassifier\n",
    "\n",
    "clf = DecisionTreeClassifier()"
   ]
  },
  {
   "cell_type": "code",
   "execution_count": 134,
   "metadata": {},
   "outputs": [
    {
     "name": "stdout",
     "output_type": "stream",
     "text": [
      "DecisionTreeClassifier(class_weight=None, criterion='gini', max_depth=5,\n",
      "            max_features=None, max_leaf_nodes=None,\n",
      "            min_impurity_decrease=0.0, min_impurity_split=None,\n",
      "            min_samples_leaf=4, min_samples_split=20,\n",
      "            min_weight_fraction_leaf=0.0, presort=False, random_state=None,\n",
      "            splitter='best')\n"
     ]
    }
   ],
   "source": [
    "from sklearn.model_selection import GridSearchCV\n",
    "\n",
    "grid_obj = GridSearchCV(clf, parameters, scoring = scorer, cv = cv_sets)\n",
    "\n",
    "grid_fit = grid_obj.fit(X_train,y_train)\n",
    "best_clf = grid_fit.best_estimator_\n",
    "print(best_clf)"
   ]
  },
  {
   "cell_type": "code",
   "execution_count": 135,
   "metadata": {},
   "outputs": [],
   "source": [
    "y_pred_train = best_clf.predict(X_train)\n",
    "y_pred_test = best_clf.predict(X_test)"
   ]
  },
  {
   "cell_type": "code",
   "execution_count": 137,
   "metadata": {},
   "outputs": [
    {
     "name": "stdout",
     "output_type": "stream",
     "text": [
      "Training score: 0.8497191011235955\n",
      "Testing score: 0.8379888268156425\n"
     ]
    }
   ],
   "source": [
    "from sklearn.metrics import accuracy_score\n",
    "\n",
    "acc_train = accuracy_score(y_train, y_pred_train)\n",
    "acc_test = accuracy_score(y_test, y_pred_test)\n",
    "\n",
    "print(\"Training score: {}\".format(acc_train))\n",
    "print(\"Testing score: {}\".format(acc_test))"
   ]
  }
 ],
 "metadata": {
  "kernelspec": {
   "display_name": "Python 3",
   "language": "python",
   "name": "python3"
  },
  "language_info": {
   "codemirror_mode": {
    "name": "ipython",
    "version": 3
   },
   "file_extension": ".py",
   "mimetype": "text/x-python",
   "name": "python",
   "nbconvert_exporter": "python",
   "pygments_lexer": "ipython3",
   "version": "3.6.8"
  }
 },
 "nbformat": 4,
 "nbformat_minor": 2
}
