{
 "cells": [
  {
   "cell_type": "markdown",
   "metadata": {},
   "source": [
    "__Necessary steps to create a dataframe"
   ]
  },
  {
   "cell_type": "code",
   "execution_count": 2,
   "metadata": {},
   "outputs": [],
   "source": [
    "import numpy as np\n",
    "import pandas as pd\n",
    "import matplotlib.pyplot as plt\n",
    "import random as rd\n",
    "\n",
    "%matplotlib inline\n",
    "\n",
    "gender = np.empty((100,1),'str')\n",
    "gender[-50:] = \"F\"\n",
    "gender[:50] = \"M\"\n",
    "\n",
    "age = np.ones((100,1))\n",
    "for i in range(100):\n",
    "        age[i] = rd.randint(0,70)  "
   ]
  },
  {
   "cell_type": "markdown",
   "metadata": {},
   "source": [
    "__Creating a panda dataframe"
   ]
  },
  {
   "cell_type": "code",
   "execution_count": 3,
   "metadata": {},
   "outputs": [],
   "source": [
    "\n",
    "df = pd.DataFrame(np.ones((100,2)), columns=['Age', 'Gender'])\n",
    "df['Age'] = age\n",
    "df['Gender'] = gender"
   ]
  },
  {
   "cell_type": "markdown",
   "metadata": {},
   "source": [
    "__Groupby"
   ]
  },
  {
   "cell_type": "code",
   "execution_count": 4,
   "metadata": {},
   "outputs": [
    {
     "data": {
      "text/plain": [
       "Gender\n",
       "F    34.12\n",
       "M    40.24\n",
       "Name: Age, dtype: float64"
      ]
     },
     "execution_count": 4,
     "metadata": {},
     "output_type": "execute_result"
    }
   ],
   "source": [
    "df.groupby('Gender')['Age'].mean()"
   ]
  },
  {
   "cell_type": "markdown",
   "metadata": {},
   "source": [
    "__Plot"
   ]
  },
  {
   "cell_type": "code",
   "execution_count": 5,
   "metadata": {},
   "outputs": [
    {
     "data": {
      "text/plain": [
       "<matplotlib.axes._subplots.AxesSubplot at 0x7f9dce7e9a90>"
      ]
     },
     "execution_count": 5,
     "metadata": {},
     "output_type": "execute_result"
    },
    {
     "data": {
      "image/png": "[encoded data removed]",
      "text/plain": [
       "<Figure size 432x288 with 1 Axes>"
      ]
     },
     "metadata": {
      "needs_background": "light"
     },
     "output_type": "display_data"
    }
   ],
   "source": [
    "# df.groupby('Gender')['Age'].plot(kind='box')\n",
    "df['Age'].plot(kind='box')\n",
    "\n"
   ]
  },
  {
   "cell_type": "code",
   "execution_count": 12,
   "metadata": {},
   "outputs": [
    {
     "data": {
      "text/plain": [
       "array([[64.0, 'M'],\n",
       "       [63.0, 'M'],\n",
       "       [57.0, 'M'],\n",
       "       [41.0, 'M'],\n",
       "       [65.0, 'M'],\n",
       "       [48.0, 'M'],\n",
       "       [23.0, 'M'],\n",
       "       [43.0, 'M'],\n",
       "       [49.0, 'M'],\n",
       "       [12.0, 'M'],\n",
       "       [50.0, 'M'],\n",
       "       [19.0, 'M'],\n",
       "       [20.0, 'M'],\n",
       "       [59.0, 'M'],\n",
       "       [66.0, 'M'],\n",
       "       [8.0, 'M'],\n",
       "       [14.0, 'M'],\n",
       "       [51.0, 'M'],\n",
       "       [61.0, 'M'],\n",
       "       [45.0, 'M'],\n",
       "       [20.0, 'M'],\n",
       "       [6.0, 'M'],\n",
       "       [58.0, 'M'],\n",
       "       [66.0, 'M'],\n",
       "       [51.0, 'M'],\n",
       "       [12.0, 'M'],\n",
       "       [21.0, 'M'],\n",
       "       [40.0, 'M'],\n",
       "       [58.0, 'M'],\n",
       "       [50.0, 'M'],\n",
       "       [68.0, 'M'],\n",
       "       [56.0, 'M'],\n",
       "       [11.0, 'M'],\n",
       "       [58.0, 'M'],\n",
       "       [40.0, 'M'],\n",
       "       [29.0, 'M'],\n",
       "       [30.0, 'M'],\n",
       "       [24.0, 'M'],\n",
       "       [40.0, 'M'],\n",
       "       [59.0, 'M'],\n",
       "       [15.0, 'M'],\n",
       "       [1.0, 'M'],\n",
       "       [53.0, 'M'],\n",
       "       [4.0, 'M'],\n",
       "       [25.0, 'M'],\n",
       "       [51.0, 'M'],\n",
       "       [59.0, 'M'],\n",
       "       [60.0, 'M'],\n",
       "       [57.0, 'M'],\n",
       "       [32.0, 'M'],\n",
       "       [2.0, 'F'],\n",
       "       [36.0, 'F'],\n",
       "       [36.0, 'F'],\n",
       "       [58.0, 'F'],\n",
       "       [0.0, 'F'],\n",
       "       [42.0, 'F'],\n",
       "       [48.0, 'F'],\n",
       "       [55.0, 'F'],\n",
       "       [26.0, 'F'],\n",
       "       [69.0, 'F'],\n",
       "       [23.0, 'F'],\n",
       "       [49.0, 'F'],\n",
       "       [15.0, 'F'],\n",
       "       [49.0, 'F'],\n",
       "       [49.0, 'F'],\n",
       "       [10.0, 'F'],\n",
       "       [48.0, 'F'],\n",
       "       [27.0, 'F'],\n",
       "       [32.0, 'F'],\n",
       "       [8.0, 'F'],\n",
       "       [58.0, 'F'],\n",
       "       [16.0, 'F'],\n",
       "       [14.0, 'F'],\n",
       "       [65.0, 'F'],\n",
       "       [38.0, 'F'],\n",
       "       [59.0, 'F'],\n",
       "       [49.0, 'F'],\n",
       "       [7.0, 'F'],\n",
       "       [68.0, 'F'],\n",
       "       [25.0, 'F'],\n",
       "       [24.0, 'F'],\n",
       "       [38.0, 'F'],\n",
       "       [11.0, 'F'],\n",
       "       [1.0, 'F'],\n",
       "       [10.0, 'F'],\n",
       "       [63.0, 'F'],\n",
       "       [64.0, 'F'],\n",
       "       [64.0, 'F'],\n",
       "       [43.0, 'F'],\n",
       "       [47.0, 'F'],\n",
       "       [64.0, 'F'],\n",
       "       [5.0, 'F'],\n",
       "       [9.0, 'F'],\n",
       "       [61.0, 'F'],\n",
       "       [9.0, 'F'],\n",
       "       [17.0, 'F'],\n",
       "       [49.0, 'F'],\n",
       "       [6.0, 'F'],\n",
       "       [34.0, 'F'],\n",
       "       [6.0, 'F']], dtype=object)"
      ]
     },
     "execution_count": 12,
     "metadata": {},
     "output_type": "execute_result"
    }
   ],
   "source": [
    "df[['Age','Gender']]\n",
    "\n",
    "\n",
    "np.array(df)"
   ]
  }
 ],
 "metadata": {
  "kernelspec": {
   "display_name": "Python 3",
   "language": "python",
   "name": "python3"
  },
  "language_info": {
   "codemirror_mode": {
    "name": "ipython",
    "version": 3
   },
   "file_extension": ".py",
   "mimetype": "text/x-python",
   "name": "python",
   "nbconvert_exporter": "python",
   "pygments_lexer": "ipython3",
   "version": "3.6.8"
  }
 },
 "nbformat": 4,
 "nbformat_minor": 2
}
