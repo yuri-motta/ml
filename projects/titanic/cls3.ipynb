{
 "cells": [
  {
   "cell_type": "markdown",
   "metadata": {},
   "source": [
    "# AdaBoostClassifier"
   ]
  },
  {
   "cell_type": "markdown",
   "metadata": {},
   "source": [
    "* This model is based on an AdaBoostClassifier with a Decision Tree as a base estimator with a max depth of 2.  \n",
    "* The number of weak learners is 4."
   ]
  },
  {
   "cell_type": "code",
   "execution_count": 1,
   "metadata": {},
   "outputs": [],
   "source": [
    "import pandas as pd\n",
    "import numpy as np\n",
    "\n",
    "df = pd.read_csv('titanic_data.csv')\n",
    "\n",
    "df.drop(columns=['Ticket', 'Name', 'Cabin', 'PassengerId'])\n",
    "\n",
    "# Removing NaN values\n",
    "df = df.fillna(0)\n",
    "\n",
    "# Replaces: Male = 0 and Female = 1\n",
    "gender = {\"male\": 0, \"female\": 1}\n",
    "df = df.replace({\"Sex\":gender})\n",
    "\n",
    "# Replaces: Embarked C = 0, Q = 1, S = 2\n",
    "gate = {\"C\":0, \"Q\":1, \"S\":2}\n",
    "df = df.replace({\"Embarked\":gate})\n",
    "\n",
    "# Extracting the significant features of the dataframe\n",
    "X = np.array(df[['Pclass', 'Sex', 'Age', 'SibSp', 'Parch', 'Fare', 'Embarked']])\n",
    "y = np.array(df[['Survived']])\n",
    "y = np.squeeze(y)"
   ]
  },
  {
   "cell_type": "code",
   "execution_count": 2,
   "metadata": {},
   "outputs": [],
   "source": [
    "from sklearn.model_selection import train_test_split\n",
    "\n",
    "X_train, X_test, y_train, y_test = train_test_split(X, y, random_state=20, test_size=0.2 )"
   ]
  },
  {
   "cell_type": "code",
   "execution_count": 6,
   "metadata": {},
   "outputs": [],
   "source": [
    "from sklearn.ensemble import AdaBoostClassifier\n",
    "from sklearn.tree import DecisionTreeClassifier\n",
    "\n",
    "clf = AdaBoostClassifier(base_estimator = DecisionTreeClassifier(max_depth=2), n_estimators = 4)\n",
    "\n",
    "clf.fit(X_train, y_train)\n",
    "\n",
    "y_pred_train = clf.predict(X_train)\n",
    "y_pred_test = clf.predict(X_test)"
   ]
  },
  {
   "cell_type": "code",
   "execution_count": 7,
   "metadata": {},
   "outputs": [
    {
     "name": "stdout",
     "output_type": "stream",
     "text": [
      "Accuracy training score: 0.8300561797752809\n",
      "Accuracy testing score: 0.8435754189944135\n"
     ]
    }
   ],
   "source": [
    "from sklearn.metrics import accuracy_score\n",
    "\n",
    "acc_train = accuracy_score(y_train, y_pred_train)\n",
    "acc_test = accuracy_score(y_test, y_pred_test)\n",
    "\n",
    "print(\"Accuracy training score: {}\".format(acc_train))\n",
    "print(\"Accuracy testing score: {}\".format(acc_test))"
   ]
  }
 ],
 "metadata": {
  "kernelspec": {
   "display_name": "Python 3",
   "language": "python",
   "name": "python3"
  },
  "language_info": {
   "codemirror_mode": {
    "name": "ipython",
    "version": 3
   },
   "file_extension": ".py",
   "mimetype": "text/x-python",
   "name": "python",
   "nbconvert_exporter": "python",
   "pygments_lexer": "ipython3",
   "version": "3.6.8"
  }
 },
 "nbformat": 4,
 "nbformat_minor": 2
}
