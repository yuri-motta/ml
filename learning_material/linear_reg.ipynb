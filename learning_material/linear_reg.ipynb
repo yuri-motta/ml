{
 "cells": [
  {
   "cell_type": "code",
   "execution_count": 17,
   "metadata": {},
   "outputs": [],
   "source": [
    "import pandas as pd\n",
    "import numpy as np\n",
    "\n",
    "df = pd.read_csv(\"bmi_and_life_expectancy.csv\")\n",
    "X = np.array(df[[\"BMI\"]])\n",
    "y = np.array(df[[\"Life expectancy\"]])"
   ]
  },
  {
   "cell_type": "code",
   "execution_count": 27,
   "metadata": {},
   "outputs": [
    {
     "name": "stdout",
     "output_type": "stream",
     "text": [
      "laos life exp [[59.99777205]]\n"
     ]
    }
   ],
   "source": [
    "from sklearn.linear_model import LinearRegression\n",
    "from sklearn.model_selection import train_test_split\n",
    "\n",
    "X_train, X_test, y_train, y_test = train_test_split(X, y, random_state=33)\n",
    "\n",
    "\n",
    "bmi_life_model = LinearRegression()\n",
    "bmi_life_model.fit(X_train, y_train)\n",
    "\n",
    "y_pred = bmi_life_model.predict(X_test)\n",
    "bmi_to_test = np.array(21.07931)\n",
    "bmi_to_test = bmi_to_test.reshape(-1,1)\n",
    "laos_life_exp = bmi_life_model.predict(bmi_to_test)\n",
    "print(\"laos life exp {}\".format(laos_life_exp))"
   ]
  },
  {
   "cell_type": "code",
   "execution_count": 22,
   "metadata": {},
   "outputs": [
    {
     "name": "stdout",
     "output_type": "stream",
     "text": [
      "The MSE between y_test and y_pred is: 52.061262808390204\n"
     ]
    }
   ],
   "source": [
    "from sklearn.metrics import mean_squared_error\n",
    "\n",
    "MSE = mean_squared_error(y_test, y_pred)\n",
    "\n",
    "print(\"The MSE between y_test and y_pred is: {}\".format(MSE))"
   ]
  }
 ],
 "metadata": {
  "kernelspec": {
   "display_name": "Python 3",
   "language": "python",
   "name": "python3"
  },
  "language_info": {
   "codemirror_mode": {
    "name": "ipython",
    "version": 3
   },
   "file_extension": ".py",
   "mimetype": "text/x-python",
   "name": "python",
   "nbconvert_exporter": "python",
   "pygments_lexer": "ipython3",
   "version": "3.6.8"
  }
 },
 "nbformat": 4,
 "nbformat_minor": 2
}
